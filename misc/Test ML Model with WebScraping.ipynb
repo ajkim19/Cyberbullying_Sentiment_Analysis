{
 "cells": [
  {
   "cell_type": "markdown",
   "metadata": {},
   "source": [
    "### Dependencies"
   ]
  },
  {
   "cell_type": "code",
   "execution_count": 241,
   "metadata": {},
   "outputs": [],
   "source": [
    "import pandas as pd\n",
    "import numpy as np\n",
    "import json\n",
    "import re\n",
    "from nltk.corpus import stopwords\n",
    "import nltk\n",
    "from sklearn.externals import joblib\n",
    "\n",
    "from sklearn.feature_extraction.text import CountVectorizer\n",
    "from sklearn.linear_model import LogisticRegression\n",
    "from sklearn.metrics import accuracy_score\n",
    "from sklearn.model_selection import train_test_split\n",
    "from splinter import Browser\n",
    "import os\n",
    "from bs4 import BeautifulSoup as bs\n",
    "import requests\n",
    "import time"
   ]
  },
  {
   "cell_type": "markdown",
   "metadata": {},
   "source": [
    "### Scraping From Webpage"
   ]
  },
  {
   "cell_type": "code",
   "execution_count": 242,
   "metadata": {},
   "outputs": [],
   "source": [
    "filepath = os.path.join(\"CyberPsyche_WebPage\", \"templates\", \"index.html\")\n",
    "with open(filepath) as file:\n",
    "    html = file.read()"
   ]
  },
  {
   "cell_type": "code",
   "execution_count": 243,
   "metadata": {},
   "outputs": [],
   "source": [
    "# Create a Beautiful Soup object\n",
    "soup = bs(html, 'html.parser')"
   ]
  },
  {
   "cell_type": "code",
   "execution_count": 244,
   "metadata": {},
   "outputs": [
    {
     "name": "stdout",
     "output_type": "stream",
     "text": [
      "<!DOCTYPE doctype html>\n",
      "<html lang=\"en\">\n",
      " <head>\n",
      "  <!-- Required meta tags -->\n",
      "  <meta charset=\"utf-8\"/>\n",
      "  <meta content=\"width=device-width, initial-scale=1, shrink-to-fit=no\" name=\"viewport\"/>\n",
      "  <!-- Style.css Stylesheet -->\n",
      "  <link href=\"{{url_for('static', filename='css/style.css')}}\" rel=\"stylesheet\"/>\n",
      "  <!-- Bootstrap CSS -->\n",
      "  <link crossorigin=\"anonymous\" href=\"https://stackpath.bootstrapcdn.com/bootstrap/4.3.1/css/bootstrap.min.css\" integrity=\"sha384-ggOyR0iXCbMQv3Xipma34MD+dH/1fQ784/j6cY/iJTQUOhcWr7x9JvoRxT2MZw1T\" rel=\"stylesheet\"/>\n",
      "  <!-- Google WebFonts -->\n",
      "  <link href=\"https://fonts.googleapis.com/icon?family=Material+Icons\" rel=\"stylesheet\"/>\n",
      "  <!-- d3 -->\n",
      "  <script src=\"https://d3js.org/d3.v5.min.js\">\n",
      "  </script>\n",
      "  <title>\n",
      "   CyberPsyche\n",
      "  </title>\n",
      " </head>\n",
      " <body>\n",
      "  <!-- Navigation -->\n",
      "  <nav class=\"navbar navbar-expand-lg navbar-light bg-light\">\n",
      "   <!-- Brand -->\n",
      "   <a class=\"navbar-brand mr-4\" href=\"/\">\n",
      "    <div class=\"logo\">\n",
      "     CyberPsyche\n",
      "    </div>\n",
      "   </a>\n",
      "   <!-- Search -->\n",
      "   <form class=\"navbar-form navbar-right\">\n",
      "    <input aria-label=\"Search\" class=\"form-control search\" placeholder=\"Search for friends\" type=\"search\"/>\n",
      "   </form>\n",
      "   <div class=\"navbar-nav justify-content-center\">\n",
      "    <ul class=\"navbar-nav\">\n",
      "     <li class=\"ml-4 tagline\">\n",
      "      Because people are a**holes\n",
      "     </li>\n",
      "    </ul>\n",
      "   </div>\n",
      "   <!-- Collapse Button -->\n",
      "   <button aria-controls=\"navbarNavAltMarkup\" aria-expanded=\"false\" aria-label=\"Toggle navigation\" class=\"navbar-toggler\" data-target=\"#navbarNavAltMarkup\" data-toggle=\"collapse\" type=\"button\">\n",
      "    <span class=\"navbar-toggler-icon\">\n",
      "    </span>\n",
      "   </button>\n",
      "   `\n",
      "   <!-- Menu Items -->\n",
      "   <div class=\"collapse navbar-collapse\" id=\"navbarNavAltMarkup\">\n",
      "    <div class=\"navbar-nav ml-auto\">\n",
      "     <a class=\"nav-item nav-link active\" href=\"#\">\n",
      "      Profile\n",
      "      <span class=\"sr-only\">\n",
      "       (current)\n",
      "      </span>\n",
      "     </a>\n",
      "     <a class=\"nav-item nav-link\" href=\"#\">\n",
      "      Home\n",
      "     </a>\n",
      "     <a class=\"nav-item nav-link\" href=\"#\">\n",
      "      Account\n",
      "     </a>\n",
      "    </div>\n",
      "    <!-- END NAV-ITEMS -->\n",
      "   </div>\n",
      "   <!-- END COLLAPSE -->\n",
      "   <div class=\"menu-icons\">\n",
      "    <i class=\"material-icons\">\n",
      "     <a href=\"#\">\n",
      "      group_add\n",
      "     </a>\n",
      "    </i>\n",
      "    <i class=\"material-icons\">\n",
      "     <a href=\"#\">\n",
      "      notifications_active\n",
      "     </a>\n",
      "    </i>\n",
      "   </div>\n",
      "  </nav>\n",
      "  <!-- END NAVIGATION -->\n",
      "  <!-- Container -->\n",
      "  <div class=\"container col-12\">\n",
      "   <!-- Main Content -->\n",
      "   <div class=\"row col-sm-12 header-img\">\n",
      "    <img class=\"profile-img ml-4\" src=\"https://cdn11.bigcommerce.com/s-jbg7mp3qyd/images/stencil/800x800/products/3812/5593/awesome_face__91135.1464722405.jpg?c=2&amp;imbypass=on\"/>\n",
      "    <h1 class=\"name\" id=\"name\" style=\"z-index: 10\">\n",
      "     John Smith\n",
      "    </h1>\n",
      "   </div>\n",
      "   <!-- END ROW -->\n",
      "   <div class=\"row col-sm-12 button-row\">\n",
      "    <div class=\"col-sm-4 offset-sm-4 d-flex justify-items-center justify-content-center\">\n",
      "     <button class=\"menu-btn\">\n",
      "      Comments\n",
      "     </button>\n",
      "     <button class=\"menu-btn\">\n",
      "      About\n",
      "     </button>\n",
      "     <button class=\"menu-btn\">\n",
      "      Friends\n",
      "     </button>\n",
      "     <button class=\"menu-btn\" id=\"data\">\n",
      "      <a href=\"/data\">\n",
      "       Data\n",
      "      </a>\n",
      "     </button>\n",
      "    </div>\n",
      "   </div>\n",
      "   <!-- END ROW -->\n",
      "   <div class=\"row col-sm-12 h-auto\">\n",
      "    <div class=\"col-md-8 comment-page p-0\" id=\"comment-page\">\n",
      "     <div class=\"comment\">\n",
      "      <img class=\"com-img\" src=\"https://i.imgflip.com/rgenv.jpg\"/>\n",
      "      <h4>\n",
      "       <strong>\n",
      "        Hugh Raye\n",
      "       </strong>\n",
      "      </h4>\n",
      "      <i class=\"ml-auto\">\n",
      "       July, 25 2019\n",
      "      </i>\n",
      "      <p>\n",
      "       What a wonderful day! It's BEAUTIFUL outside isn't it???\n",
      "      </p>\n",
      "     </div>\n",
      "     <!-- END COMMENT -->\n",
      "     <div class=\"comment\">\n",
      "      <img class=\"com-img\" src=\"http://www.ragefaces.memesoftware.com/faces/large/okay-no-l.png\"/>\n",
      "      <h4>\n",
      "       <strong>\n",
      "        Anita Room\n",
      "       </strong>\n",
      "      </h4>\n",
      "      <i class=\"ml-auto\">\n",
      "       July, 25 2019\n",
      "      </i>\n",
      "      <p>\n",
      "       Fuck you and the horse you rode in on!\n",
      "      </p>\n",
      "     </div>\n",
      "     <!-- END COMMENT -->\n",
      "     <div class=\"comment\">\n",
      "      <img class=\"com-img\" src=\"https://i.warosu.org/data/biz/img/0093/37/1525878200403.jpg\"/>\n",
      "      <h4>\n",
      "       <strong>\n",
      "        Carole Singer\n",
      "       </strong>\n",
      "      </h4>\n",
      "      <i class=\"ml-auto\">\n",
      "       July, 25 2019\n",
      "      </i>\n",
      "      <p>\n",
      "       OMG LOOOOOVVVVe!\n",
      "      </p>\n",
      "     </div>\n",
      "     <!-- END COMMENT -->\n",
      "     <div class=\"comment\">\n",
      "      <img class=\"com-img\" src=\"https://i.imgflip.com/rgenv.jpg\"/>\n",
      "      <h4>\n",
      "       <strong>\n",
      "        Hugh Raye\n",
      "       </strong>\n",
      "      </h4>\n",
      "      <i class=\"ml-auto\">\n",
      "       July, 25 2019\n",
      "      </i>\n",
      "      <p>\n",
      "       You are the BEST son'bitch I know\n",
      "      </p>\n",
      "     </div>\n",
      "     <!-- END COMMENT -->\n",
      "     <div class=\"comment\">\n",
      "      <img class=\"com-img\" src=\"https://ae01.alicdn.com/kf/HTB1ohjbRFXXXXaLXXXXq6xXFXXX3/13-8cm-14-5cm-Funny-Sweet-Jesus-Face-Meme-Vinyl-Decals-Car-Sticker-Black-Silver-S6.jpg_q50.jpg\"/>\n",
      "      <h4>\n",
      "       <strong>\n",
      "        Horace Cope\n",
      "       </strong>\n",
      "      </h4>\n",
      "      <i class=\"ml-auto\">\n",
      "       July, 25 2019\n",
      "      </i>\n",
      "      <p>\n",
      "       I AM GOING TO KILL YOU!!!\n",
      "      </p>\n",
      "     </div>\n",
      "     <!-- END COMMENT -->\n",
      "     <div class=\"comment\">\n",
      "      <img class=\"com-img\" src=\"https://i.warosu.org/data/biz/img/0093/37/1525878200403.jpg\"/>\n",
      "      <h4>\n",
      "       <strong>\n",
      "        Carole Singer\n",
      "       </strong>\n",
      "      </h4>\n",
      "      <i class=\"ml-auto\">\n",
      "       July, 25 2019\n",
      "      </i>\n",
      "      <p>\n",
      "       Hahaha! You are seriously the worst!\n",
      "      </p>\n",
      "     </div>\n",
      "     <!-- END COMMENT -->\n",
      "     <form class=\"row\" id=\"comtext\">\n",
      "      <textarea class=\"comment-text col-sm-10 offset-sm-1\" placeholder=\"Write a comment...\"></textarea>\n",
      "      <button class=\"col-sm-10 offset-sm-1\" id=\"send\" type=\"submit\">\n",
      "       Send\n",
      "      </button>\n",
      "     </form>\n",
      "    </div>\n",
      "    <!-- END ROW -->\n",
      "    <div class=\"col-md-4 side p-0\" id=\"side\">\n",
      "     <div class=\"row\">\n",
      "      <!-- Advertisement -->\n",
      "      <div class=\"advert col-sm-12\">\n",
      "       <h5>\n",
      "        Advertisement\n",
      "       </h5>\n",
      "       <p class=\"pl-4\">\n",
      "        Look at this cool new thing! Buy this thing! do it now! now. now. now. do it. do it. 5. 4. 3. 2. 1. now. do it. do it. you will buy this thing from me. do it. now. now.\n",
      "       </p>\n",
      "       <img src=\"https://cdn.shopify.com/s/files/1/1403/7343/products/wsb-atl-59-1_dbfd6f78-865d-4e16-b4f1-77366fb69c97_1600x.jpg?v=1550259067\"/>\n",
      "      </div>\n",
      "      <!-- END ADVERTISEMENT -->\n",
      "      <div class=\"row col-sm-12\">\n",
      "       <!-- Who's Online -->\n",
      "       <div class=\"col-sm-12\" id=\"online\">\n",
      "        <h3>\n",
      "         See Who's Online\n",
      "        </h3>\n",
      "        <!-- Contact -->\n",
      "        <div class=\"row contact col-sm-12\">\n",
      "         <div class=\"col-xs-4\">\n",
      "          <img src=\"https://i1.wp.com/www.sardiniauniqueproperties.com/wp-content/uploads/2015/10/square-profile-pic-2.jpg\"/>\n",
      "         </div>\n",
      "         <div class=\"col-xs-4\">\n",
      "          <h4 class=\"text center my-2 ml-3\">\n",
      "           Johnny Appleseed\n",
      "          </h4>\n",
      "         </div>\n",
      "         <div class=\"col-xs-4\">\n",
      "          <div class=\"green my-3 ml-3\">\n",
      "          </div>\n",
      "         </div>\n",
      "        </div>\n",
      "        <!-- END ROW -->\n",
      "        <!-- END CONTACT -->\n",
      "        <!-- Contact -->\n",
      "        <div class=\"row contact col-sm-12\">\n",
      "         <div class=\"col-xs-4\">\n",
      "          <img src=\"https://i2.wp.com/www.sardiniauniqueproperties.com/wp-content/uploads/2015/10/Square-Profile-Pic-1-1.jpg\"/>\n",
      "         </div>\n",
      "         <div class=\"col-xs-4\">\n",
      "          <h4 class=\"text center my-2 ml-3\">\n",
      "           Amanda Lynn\n",
      "          </h4>\n",
      "         </div>\n",
      "         <div class=\"col-xs-4\">\n",
      "          <div class=\"green my-3 ml-3\">\n",
      "          </div>\n",
      "         </div>\n",
      "        </div>\n",
      "        <!-- END ROW -->\n",
      "        <!-- END CONTACT -->\n",
      "        <!-- Contact -->\n",
      "        <div class=\"row contact col-sm-12\">\n",
      "         <div class=\"col-xs-4\">\n",
      "          <img src=\"https://i2.wp.com/whysquare.co.nz/wp-content/uploads/2013/07/profile_square3.jpg?resize=270%2C270\"/>\n",
      "         </div>\n",
      "         <div class=\"col-xs-4\">\n",
      "          <h4 class=\"text center my-2 ml-3\">\n",
      "           Bennie Factor\n",
      "          </h4>\n",
      "         </div>\n",
      "         <div class=\"col-xs-4\">\n",
      "          <div class=\"green my-3 ml-3\">\n",
      "          </div>\n",
      "         </div>\n",
      "        </div>\n",
      "        <!-- END ROW -->\n",
      "        <!-- END CONTACT -->\n",
      "        <!-- Contact -->\n",
      "        <div class=\"row contact col-sm-12\">\n",
      "         <div class=\"col-xs-4\">\n",
      "          <img src=\"https://rak-file-uploads.s3.amazonaws.com/uploads/user/avatar/196548/square_Profile_Picture.jpg\"/>\n",
      "         </div>\n",
      "         <div class=\"col-xs-4\">\n",
      "          <h4 class=\"text center my-2 ml-3\">\n",
      "           Helen Hywater\n",
      "          </h4>\n",
      "         </div>\n",
      "         <div class=\"col-xs-4\">\n",
      "          <div class=\"green my-3 ml-3\">\n",
      "          </div>\n",
      "         </div>\n",
      "        </div>\n",
      "        <!-- END ROW -->\n",
      "        <!-- END CONTACT -->\n",
      "        <!-- Contact -->\n",
      "        <div class=\"row contact col-sm-12\">\n",
      "         <div class=\"col-xs-4\">\n",
      "          <img src=\"https://media.creativemornings.com/uploads/user/avatar/242643/square_profile_4000px.jpg\"/>\n",
      "         </div>\n",
      "         <div class=\"col-xs-4\">\n",
      "          <h4 class=\"text center my-2 ml-3\">\n",
      "           Justin Thyme\n",
      "          </h4>\n",
      "         </div>\n",
      "         <div class=\"col-xs-4\">\n",
      "          <div class=\"green my-3 ml-3\">\n",
      "          </div>\n",
      "         </div>\n",
      "        </div>\n",
      "        <!-- END ROW -->\n",
      "        <!-- END CONTACT -->\n",
      "       </div>\n",
      "      </div>\n",
      "      <!-- END ROW -->\n",
      "     </div>\n",
      "     <!-- END ROW -->\n",
      "    </div>\n",
      "    <!-- END SIDE -->\n",
      "   </div>\n",
      "   <!-- END ROW -->\n",
      "  </div>\n",
      "  <!-- END CONTAINER -->\n",
      "  <!-- Footer -->\n",
      "  <footer class=\"col-md-12\" style=\"height: 100px; background: rgb(98, 98, 255);\">\n",
      "   <div class=\"col-sm-4 offset-sm-4 text-center py-5\">\n",
      "    <p>\n",
      "     © 2019 UCI Data Analytics - Group 4\n",
      "    </p>\n",
      "   </div>\n",
      "  </footer>\n",
      "  <!-- END FOOTER -->\n",
      "  <!-- Optional JavaScript -->\n",
      "  <!-- jQuery first, then Popper.js, then Bootstrap JS -->\n",
      "  <script crossorigin=\"anonymous\" integrity=\"sha384-q8i/X+965DzO0rT7abK41JStQIAqVgRVzpbzo5smXKp4YfRvH+8abtTE1Pi6jizo\" src=\"https://code.jquery.com/jquery-3.3.1.slim.min.js\">\n",
      "  </script>\n",
      "  <script crossorigin=\"anonymous\" integrity=\"sha384-UO2eT0CpHqdSJQ6hJty5KVphtPhzWj9WO1clHTMGa3JDZwrnQq4sF86dIHNDz0W1\" src=\"https://cdnjs.cloudflare.com/ajax/libs/popper.js/1.14.7/umd/popper.min.js\">\n",
      "  </script>\n",
      "  <script crossorigin=\"anonymous\" integrity=\"sha384-JjSmVgyd0p3pXB1rRibZUAYoIIy6OrQ6VrjIEaFf/nJGzIxFDsf4x0xIM+B07jRM\" src=\"https://stackpath.bootstrapcdn.com/bootstrap/4.3.1/js/bootstrap.min.js\">\n",
      "  </script>\n",
      "  <!-- JS -->\n",
      "  <!-- <script src=\"{{url_for('static', filename='js/script.js')}}\"></script>> -->\n",
      " </body>\n",
      " --&gt;\n",
      "</html>\n"
     ]
    }
   ],
   "source": [
    "# Print formatted version of the soup\n",
    "print(soup.prettify())"
   ]
  },
  {
   "cell_type": "code",
   "execution_count": 245,
   "metadata": {},
   "outputs": [
    {
     "name": "stdout",
     "output_type": "stream",
     "text": [
      "[\"What a wonderful day! It's BEAUTIFUL outside isn't it???\", 'Fuck you and the horse you rode in on!', 'OMG LOOOOOVVVVe!', \"You are the BEST son'bitch I know\", 'I AM GOING TO KILL YOU!!!', 'Hahaha! You are seriously the worst!']\n"
     ]
    }
   ],
   "source": [
    "# Print only the comments\n",
    "comments = []\n",
    "for item in soup.body.find_all(\"div\", class_=\"comment\"):\n",
    "    comments.append(item.p.text)\n",
    "    \n",
    "print(comments)"
   ]
  },
  {
   "cell_type": "markdown",
   "metadata": {},
   "source": [
    "### Pre Processing"
   ]
  },
  {
   "cell_type": "code",
   "execution_count": 246,
   "metadata": {},
   "outputs": [],
   "source": [
    "REPLACE_NO_SPACE = re.compile(\"(\\.)|(\\;)|(\\:)|(\\!)|(\\?)|(\\,)|(\\\")|(\\()|(\\))|(\\[)|(\\])|(\\d+)\")\n",
    "REPLACE_WITH_SPACE = re.compile(\"(<br\\s*/><br\\s*/>)|(\\-)|(\\/)\")\n",
    "NO_SPACE = \"\"\n",
    "SPACE = \" \"\n",
    "\n",
    "def preprocess_reviews(reviews):\n",
    "    \n",
    "    reviews = [REPLACE_NO_SPACE.sub(NO_SPACE, line.lower()) for line in reviews]\n",
    "    reviews = [REPLACE_WITH_SPACE.sub(SPACE, line) for line in reviews]\n",
    "    \n",
    "    return reviews"
   ]
  },
  {
   "cell_type": "code",
   "execution_count": 247,
   "metadata": {},
   "outputs": [],
   "source": [
    "df = pd.read_json(\"CyberPsyche_WebPage/Resources/Data_cyb.json\", lines = True, orient = \"columns\")"
   ]
  },
  {
   "cell_type": "code",
   "execution_count": 248,
   "metadata": {},
   "outputs": [],
   "source": [
    "rating = []\n",
    "\n",
    "for i in df[\"annotation\"]:\n",
    "    rating.append(int(i[\"label\"][0]))\n",
    "    \n",
    "df[\"rating\"] = rating"
   ]
  },
  {
   "cell_type": "code",
   "execution_count": 249,
   "metadata": {
    "scrolled": true
   },
   "outputs": [
    {
     "data": {
      "text/html": [
       "<div>\n",
       "<style scoped>\n",
       "    .dataframe tbody tr th:only-of-type {\n",
       "        vertical-align: middle;\n",
       "    }\n",
       "\n",
       "    .dataframe tbody tr th {\n",
       "        vertical-align: top;\n",
       "    }\n",
       "\n",
       "    .dataframe thead th {\n",
       "        text-align: right;\n",
       "    }\n",
       "</style>\n",
       "<table border=\"1\" class=\"dataframe\">\n",
       "  <thead>\n",
       "    <tr style=\"text-align: right;\">\n",
       "      <th></th>\n",
       "      <th>content</th>\n",
       "      <th>rating</th>\n",
       "    </tr>\n",
       "  </thead>\n",
       "  <tbody>\n",
       "    <tr>\n",
       "      <th>96</th>\n",
       "      <td>That is someone who does it from their heart. ...</td>\n",
       "      <td>1</td>\n",
       "    </tr>\n",
       "    <tr>\n",
       "      <th>97</th>\n",
       "      <td>Absolutely applaud your work to secure freedom...</td>\n",
       "      <td>0</td>\n",
       "    </tr>\n",
       "    <tr>\n",
       "      <th>98</th>\n",
       "      <td>You'll never learn it till you actually live i...</td>\n",
       "      <td>1</td>\n",
       "    </tr>\n",
       "    <tr>\n",
       "      <th>99</th>\n",
       "      <td>Nothing on the reinstatement of federal Capito...</td>\n",
       "      <td>1</td>\n",
       "    </tr>\n",
       "    <tr>\n",
       "      <th>100</th>\n",
       "      <td>Crickets</td>\n",
       "      <td>0</td>\n",
       "    </tr>\n",
       "  </tbody>\n",
       "</table>\n",
       "</div>"
      ],
      "text/plain": [
       "                                               content  rating\n",
       "96   That is someone who does it from their heart. ...       1\n",
       "97   Absolutely applaud your work to secure freedom...       0\n",
       "98   You'll never learn it till you actually live i...       1\n",
       "99   Nothing on the reinstatement of federal Capito...       1\n",
       "100                                           Crickets       0"
      ]
     },
     "execution_count": 249,
     "metadata": {},
     "output_type": "execute_result"
    }
   ],
   "source": [
    "tweets = pd.read_csv(\"CyberPsyche_WebPage/Resources/Test_Twitter_Comments.csv\")\n",
    "tweets.tail()"
   ]
  },
  {
   "cell_type": "code",
   "execution_count": 250,
   "metadata": {},
   "outputs": [],
   "source": [
    "new_df1 = df[[\"content\", \"rating\"]]"
   ]
  },
  {
   "cell_type": "code",
   "execution_count": 251,
   "metadata": {},
   "outputs": [],
   "source": [
    "new_df = pd.concat([new_df1,tweets])"
   ]
  },
  {
   "cell_type": "code",
   "execution_count": 252,
   "metadata": {},
   "outputs": [],
   "source": [
    "X_all = [i[1][\"content\"] for i in new_df.iterrows()]\n",
    "y = [i[1][\"rating\"] for i in new_df.iterrows()]\n",
    "\n",
    "reviews_train_clean = preprocess_reviews(X_all)"
   ]
  },
  {
   "cell_type": "code",
   "execution_count": 253,
   "metadata": {},
   "outputs": [],
   "source": [
    "tweets_list = [i for i in comments]\n",
    "# rating_list = [i[1][\"rating\"] for i in tweets.iterrows()]"
   ]
  },
  {
   "cell_type": "code",
   "execution_count": 254,
   "metadata": {},
   "outputs": [],
   "source": [
    "twitter_cleaned = preprocess_reviews(tweets_list)"
   ]
  },
  {
   "cell_type": "markdown",
   "metadata": {},
   "source": [
    "# Fitting Model"
   ]
  },
  {
   "cell_type": "code",
   "execution_count": 255,
   "metadata": {
    "scrolled": true
   },
   "outputs": [
    {
     "data": {
      "text/plain": [
       "CountVectorizer(analyzer='word', binary=True, decode_error='strict',\n",
       "        dtype=<class 'numpy.int64'>, encoding='utf-8', input='content',\n",
       "        lowercase=True, max_df=1.0, max_features=None, min_df=1,\n",
       "        ngram_range=(1, 3), preprocessor=None,\n",
       "        stop_words=['i', 'me', 'my', 'myself', 'we', 'our', 'ours', 'ourselves', 'you', \"you're\", \"you've\", \"you'll\", \"you'd\", 'your', 'yours', 'yourself', 'yourselves', 'he', 'him', 'his', 'himself', 'she', \"she's\", 'her', 'hers', 'herself', 'it', \"it's\", 'its', 'itself', 'they', 'them', 'their', 'theirs',... 'shouldn', \"shouldn't\", 'wasn', \"wasn't\", 'weren', \"weren't\", 'won', \"won't\", 'wouldn', \"wouldn't\"],\n",
       "        strip_accents=None, token_pattern='(?u)\\\\b\\\\w\\\\w+\\\\b',\n",
       "        tokenizer=None, vocabulary=None)"
      ]
     },
     "execution_count": 255,
     "metadata": {},
     "output_type": "execute_result"
    }
   ],
   "source": [
    "stop_words = stopwords.words('english')\n",
    "ngram_vectorizer = CountVectorizer(binary=True, ngram_range=(1, 3), stop_words=stop_words)\n",
    "ngram_vectorizer.fit(reviews_train_clean)"
   ]
  },
  {
   "cell_type": "code",
   "execution_count": 256,
   "metadata": {},
   "outputs": [],
   "source": [
    "X = ngram_vectorizer.transform(reviews_train_clean)"
   ]
  },
  {
   "cell_type": "code",
   "execution_count": 257,
   "metadata": {},
   "outputs": [
    {
     "data": {
      "text/plain": [
       "(20102, 163735)"
      ]
     },
     "execution_count": 257,
     "metadata": {},
     "output_type": "execute_result"
    }
   ],
   "source": [
    "X.shape"
   ]
  },
  {
   "cell_type": "code",
   "execution_count": 258,
   "metadata": {},
   "outputs": [
    {
     "data": {
      "text/plain": [
       "LinearSVC(C=0.06, class_weight=None, dual=True, fit_intercept=True,\n",
       "     intercept_scaling=1, loss='squared_hinge', max_iter=1000,\n",
       "     multi_class='ovr', penalty='l2', random_state=None, tol=1e-06,\n",
       "     verbose=0)"
      ]
     },
     "execution_count": 258,
     "metadata": {},
     "output_type": "execute_result"
    }
   ],
   "source": [
    "final = LinearSVC(tol=.000001,C=0.06)\n",
    "final.fit(X, y)\n",
    "# print (\"Final Accuracy: %s\" \n",
    "#        % accuracy_score(y_test, final.predict(X_test)))"
   ]
  },
  {
   "cell_type": "code",
   "execution_count": 259,
   "metadata": {
    "scrolled": true
   },
   "outputs": [
    {
     "name": "stdout",
     "output_type": "stream",
     "text": [
      "[\"what a wonderful day it's beautiful outside isn't it\", 'fuck you and the horse you rode in on', 'omg looooovvvve', \"you are the best son'bitch i know\", 'i am going to kill you', 'hahaha you are seriously the worst']\n"
     ]
    }
   ],
   "source": [
    "print(twitter_cleaned)"
   ]
  },
  {
   "cell_type": "code",
   "execution_count": 260,
   "metadata": {},
   "outputs": [
    {
     "data": {
      "text/plain": [
       "(6, 163735)"
      ]
     },
     "execution_count": 260,
     "metadata": {},
     "output_type": "execute_result"
    }
   ],
   "source": [
    "tws = ngram_vectorizer.transform(twitter_cleaned)\n",
    "tws.shape"
   ]
  },
  {
   "cell_type": "code",
   "execution_count": 264,
   "metadata": {},
   "outputs": [
    {
     "name": "stdout",
     "output_type": "stream",
     "text": [
      "[0 1 0 1 0 0]\n"
     ]
    },
    {
     "data": {
      "text/plain": [
       "numpy.ndarray"
      ]
     },
     "execution_count": 264,
     "metadata": {},
     "output_type": "execute_result"
    }
   ],
   "source": [
    "predictions = final.predict(tws)\n",
    "print(predictions)\n",
    "type(predictions)"
   ]
  },
  {
   "cell_type": "code",
   "execution_count": 263,
   "metadata": {},
   "outputs": [
    {
     "name": "stdout",
     "output_type": "stream",
     "text": [
      "what a wonderful day it's beautiful outside isn't it\n",
      "fuck you and the horse you rode in on\n",
      "omg looooovvvve\n",
      "you are the best son'bitch i know\n",
      "i am going to kill you\n",
      "hahaha you are seriously the worst\n"
     ]
    }
   ],
   "source": [
    "for i in twitter_cleaned:\n",
    "    print(i)"
   ]
  },
  {
   "cell_type": "code",
   "execution_count": null,
   "metadata": {},
   "outputs": [],
   "source": []
  }
 ],
 "metadata": {
  "kernelspec": {
   "display_name": "Python 3",
   "language": "python",
   "name": "python3"
  },
  "language_info": {
   "codemirror_mode": {
    "name": "ipython",
    "version": 3
   },
   "file_extension": ".py",
   "mimetype": "text/x-python",
   "name": "python",
   "nbconvert_exporter": "python",
   "pygments_lexer": "ipython3",
   "version": "3.7.3"
  }
 },
 "nbformat": 4,
 "nbformat_minor": 2
}
